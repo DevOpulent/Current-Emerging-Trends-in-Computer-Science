{
 "cells": [
  {
   "cell_type": "markdown",
   "metadata": {},
   "source": [
    "# Treasure Hunt Game Notebook\n",
    "\n",
    "## Read and Review Your Starter Code\n",
    "The theme of this project is a popular treasure hunt game in which the player needs to find the treasure before the pirate does. While you will not be developing the entire game, you will write the part of the game that represents the intelligent agent, which is a pirate in this case. The pirate will try to find the optimal path to the treasure using deep Q-learning. \n",
    "\n",
    "You have been provided with two Python classes and this notebook to help you with this assignment. The first class, TreasureMaze.py, represents the environment, which includes a maze object defined as a matrix. The second class, GameExperience.py, stores the episodes – that is, all the states that come in between the initial state and the terminal state. This is later used by the agent for learning by experience, called \"exploration\". This notebook shows how to play a game. Your task is to complete the deep Q-learning implementation for which a skeleton implementation has been provided. The code blocks you will need to complete has #TODO as a header.\n",
    "\n",
    "First, read and review the next few code and instruction blocks to understand the code that you have been given."
   ]
  },
  {
   "cell_type": "code",
   "execution_count": 12,
   "metadata": {},
   "outputs": [],
   "source": [
    "from __future__ import print_function\n",
    "import os, sys, time, datetime, json, random\n",
    "import numpy as np\n",
    "from keras.models import Sequential\n",
    "from keras.layers.core import Dense, Activation\n",
    "from keras.optimizers import SGD , Adam, RMSprop\n",
    "from keras.layers.advanced_activations import PReLU\n",
    "import matplotlib.pyplot as plt\n",
    "from TreasureMaze import TreasureMaze\n",
    "from GameExperience import GameExperience\n",
    "%matplotlib inline"
   ]
  },
  {
   "cell_type": "markdown",
   "metadata": {},
   "source": [
    "The following code block contains an 8x8 matrix that will be used as a maze object:"
   ]
  },
  {
   "cell_type": "code",
   "execution_count": 13,
   "metadata": {},
   "outputs": [],
   "source": [
    "maze = np.array([\n",
    "    [ 1.,  0.,  1.,  1.,  1.,  1.,  1.,  1.],\n",
    "    [ 1.,  0.,  1.,  1.,  1.,  0.,  1.,  1.],\n",
    "    [ 1.,  1.,  1.,  1.,  0.,  1.,  0.,  1.],\n",
    "    [ 1.,  1.,  1.,  0.,  1.,  1.,  1.,  1.],\n",
    "    [ 1.,  1.,  0.,  1.,  1.,  1.,  1.,  1.],\n",
    "    [ 1.,  1.,  1.,  0.,  1.,  0.,  0.,  0.],\n",
    "    [ 1.,  1.,  1.,  0.,  1.,  1.,  1.,  1.],\n",
    "    [ 1.,  1.,  1.,  1.,  0.,  1.,  1.,  1.]\n",
    "])"
   ]
  },
  {
   "cell_type": "markdown",
   "metadata": {},
   "source": [
    "This helper function allows a visual representation of the maze object:"
   ]
  },
  {
   "cell_type": "code",
   "execution_count": 14,
   "metadata": {},
   "outputs": [],
   "source": [
    "def show(qmaze):\n",
    "    plt.grid('on')\n",
    "    nrows, ncols = qmaze.maze.shape\n",
    "    ax = plt.gca()\n",
    "    ax.set_xticks(np.arange(0.5, nrows, 1))\n",
    "    ax.set_yticks(np.arange(0.5, ncols, 1))\n",
    "    ax.set_xticklabels([])\n",
    "    ax.set_yticklabels([])\n",
    "    canvas = np.copy(qmaze.maze)\n",
    "    for row,col in qmaze.visited:\n",
    "        canvas[row,col] = 0.6\n",
    "    pirate_row, pirate_col, _ = qmaze.state\n",
    "    canvas[pirate_row, pirate_col] = 0.3   # pirate cell\n",
    "    canvas[nrows-1, ncols-1] = 0.9 # treasure cell\n",
    "    img = plt.imshow(canvas, interpolation='none', cmap='gray')\n",
    "    return img"
   ]
  },
  {
   "cell_type": "markdown",
   "metadata": {},
   "source": [
    "The pirate agent can move in four directions: left, right, up, and down. \n",
    "\n",
    "While the agent primarily learns by experience through exploitation, often, the agent can choose to explore the environment to find previously undiscovered paths. This is called \"exploration\" and is defined by epsilon. This value is typically a lower value such as 0.1, which means for every ten attempts, the agent will attempt to learn by experience nine times and will randomly explore a new path one time. You are encouraged to try various values for the exploration factor and see how the algorithm performs."
   ]
  },
  {
   "cell_type": "code",
   "execution_count": 15,
   "metadata": {},
   "outputs": [],
   "source": [
    "LEFT = 0\n",
    "UP = 1\n",
    "RIGHT = 2\n",
    "DOWN = 3\n",
    "\n",
    "\n",
    "# Exploration factor\n",
    "epsilon = 0.1\n",
    "\n",
    "# Actions dictionary\n",
    "actions_dict = {\n",
    "    LEFT: 'left',\n",
    "    UP: 'up',\n",
    "    RIGHT: 'right',\n",
    "    DOWN: 'down',\n",
    "}\n",
    "\n",
    "num_actions = len(actions_dict)\n"
   ]
  },
  {
   "cell_type": "markdown",
   "metadata": {},
   "source": [
    "The sample code block and output below show creating a maze object and performing one action (DOWN), which returns the reward. The resulting updated environment is visualized."
   ]
  },
  {
   "cell_type": "code",
   "execution_count": 16,
   "metadata": {},
   "outputs": [
    {
     "name": "stdout",
     "output_type": "stream",
     "text": [
      "reward= -0.04\n"
     ]
    },
    {
     "data": {
      "text/plain": [
       "<matplotlib.image.AxesImage at 0x7f412c281550>"
      ]
     },
     "execution_count": 16,
     "metadata": {},
     "output_type": "execute_result"
    },
    {
     "data": {
      "image/png": "[encoded data removed]",
      "text/plain": [
       "<Figure size 432x288 with 1 Axes>"
      ]
     },
     "metadata": {
      "needs_background": "light"
     },
     "output_type": "display_data"
    }
   ],
   "source": [
    "qmaze = TreasureMaze(maze)\n",
    "canvas, reward, game_over = qmaze.act(DOWN)\n",
    "print(\"reward=\", reward)\n",
    "show(qmaze)"
   ]
  },
  {
   "cell_type": "markdown",
   "metadata": {},
   "source": [
    "This function simulates a full game based on the provided trained model. The other parameters include the TreasureMaze object and the starting position of the pirate."
   ]
  },
  {
   "cell_type": "code",
   "execution_count": 17,
   "metadata": {},
   "outputs": [],
   "source": [
    "def play_game(model, qmaze, pirate_cell):\n",
    "    qmaze.reset(pirate_cell)\n",
    "    envstate = qmaze.observe()\n",
    "    while True:\n",
    "        prev_envstate = envstate\n",
    "        # get next action\n",
    "        q = model.predict(prev_envstate)\n",
    "        action = np.argmax(q[0])\n",
    "\n",
    "        # apply action, get rewards and new state\n",
    "        envstate, reward, game_status = qmaze.act(action)\n",
    "        if game_status == 'win':\n",
    "            return True\n",
    "        elif game_status == 'lose':\n",
    "            return False"
   ]
  },
  {
   "cell_type": "markdown",
   "metadata": {},
   "source": [
    "This function helps you to determine whether the pirate can win any game at all. If your maze is not well designed, the pirate may not win any game at all. In this case, your training would not yield any result. The provided maze in this notebook ensures that there is a path to win and you can run this method to check."
   ]
  },
  {
   "cell_type": "code",
   "execution_count": 18,
   "metadata": {},
   "outputs": [],
   "source": [
    "def completion_check(model, qmaze):\n",
    "    for cell in qmaze.free_cells:\n",
    "        if not qmaze.valid_actions(cell):\n",
    "            return False\n",
    "        if not play_game(model, qmaze, cell):\n",
    "            return False\n",
    "    return True"
   ]
  },
  {
   "cell_type": "markdown",
   "metadata": {},
   "source": [
    "The code you have been given in this block will build the neural network model. Review the code and note the number of layers, as well as the activation, optimizer, and loss functions that are used to train the model."
   ]
  },
  {
   "cell_type": "code",
   "execution_count": 19,
   "metadata": {},
   "outputs": [],
   "source": [
    "def build_model(maze):\n",
    "    model = Sequential()\n",
    "    model.add(Dense(maze.size, input_shape=(maze.size,)))\n",
    "    model.add(PReLU())\n",
    "    model.add(Dense(maze.size))\n",
    "    model.add(PReLU())\n",
    "    model.add(Dense(num_actions))\n",
    "    model.compile(optimizer='adam', loss='mse')\n",
    "    return model"
   ]
  },
  {
   "cell_type": "markdown",
   "metadata": {},
   "source": [
    "# #TODO: Complete the Q-Training Algorithm Code Block\n",
    "\n",
    "This is your deep Q-learning implementation. The goal of your deep Q-learning implementation is to find the best possible navigation sequence that results in reaching the treasure cell while maximizing the reward. In your implementation, you need to determine the optimal number of epochs to achieve a 100% win rate.\n",
    "\n",
    "You will need to complete the section starting with #pseudocode. The pseudocode has been included for you."
   ]
  },
  {
   "cell_type": "code",
   "execution_count": 20,
   "metadata": {},
   "outputs": [],
   "source": [
    "def qtrain(model, maze, **opt):\n",
    "\n",
    "    # exploration factor\n",
    "    global epsilon \n",
    "\n",
    "    # number of epochs\n",
    "    n_epoch = opt.get('n_epoch', 15000)\n",
    "\n",
    "    # maximum memory to store episodes\n",
    "    max_memory = opt.get('max_memory', 1000)\n",
    "\n",
    "    # maximum data size for training\n",
    "    data_size = opt.get('data_size', 50)\n",
    "\n",
    "    # start time\n",
    "    start_time = datetime.datetime.now()\n",
    "\n",
    "    # Construct environment/game from numpy array: maze (see above)\n",
    "    qmaze = TreasureMaze(maze)\n",
    "\n",
    "    # Initialize experience replay object\n",
    "    experience = GameExperience(model, max_memory=max_memory)\n",
    "    \n",
    "    win_history = []   # history of win/lose game\n",
    "    hsize = qmaze.maze.size//2   # history window size\n",
    "    win_rate = 0.0\n",
    "    \n",
    "     # pseudocode:\n",
    "    # For each epoch:\n",
    "    #    Agent_cell = randomly select a free cell\n",
    "    #    Reset the maze with agent set to above position\n",
    "    #    Hint: Review the reset method in the TreasureMaze.py class.\n",
    "    #    envstate = Environment.current_state\n",
    "    #    Hint: Review the observe method in the TreasureMaze.py class.\n",
    "    #    While state is not game over:\n",
    "    #        previous_envstate = envstate\n",
    "    #        Action = randomly choose action (left, right, up, down) either by exploration or by exploitation\n",
    "    #        envstate, reward, game_status = qmaze.act(action)\n",
    "    #    Hint: Review the act method in the TreasureMaze.py class.\n",
    "    #        episode = [previous_envstate, action, reward, envstate, game_status]\n",
    "    #        Store episode in Experience replay object\n",
    "    #    Hint: Review the remember method in the GameExperience.py class.\n",
    "    #        Train neural network model and evaluate loss\n",
    "    #    Hint: Call GameExperience.get_data to retrieve training data (input and target) and pass to model.fit method \n",
    "    #          to train the model. You can call model.evaluate to determine loss.\n",
    "    #    If the win rate is above the threshold and your model passes the completion check, that would be your epoch.\n",
    "    \n",
    "   # Training loop for each epoch\n",
    "    for epoch in range(n_epoch):\n",
    "        # Initialize variables\n",
    "        game_over = False\n",
    "        n_episodes = 0\n",
    "        loss = 0.0\n",
    "\n",
    "        # Randomly set a free cell as the starting tile for the agent\n",
    "        agent_cell = random.choice(qmaze.free_cells)\n",
    "\n",
    "        # Reset the maze with the agent set to the above position\n",
    "        qmaze.reset(agent_cell)\n",
    "\n",
    "        # Get the current state of the environment\n",
    "        envstate = qmaze.observe()\n",
    "\n",
    "        # While state is not game over\n",
    "        while not game_over:\n",
    "            # Get valid actions\n",
    "            valid_actions = qmaze.valid_actions()\n",
    "            if not valid_actions:\n",
    "                break\n",
    "            \n",
    "            # Store the previous state\n",
    "            prev_envstate = envstate\n",
    "            \n",
    "            # Choose the next action (exploration or exploitation)\n",
    "            if np.random.rand() < epsilon:\n",
    "                action = random.choice(valid_actions)  # Exploration: randomly choose an action\n",
    "            else:\n",
    "                action = np.argmax(experience.predict(envstate))  # Exploitation: choose the best action\n",
    "            \n",
    "            # Take action and observe the new state, reward, and game status\n",
    "            envstate, reward, game_status = qmaze.act(action)\n",
    "        \n",
    "            # Update win history and game_over status\n",
    "            if game_status == 'win':\n",
    "                win_history.append(1)\n",
    "                game_over = True\n",
    "            elif game_status == 'lose':\n",
    "                win_history.append(0)\n",
    "                game_over = True\n",
    "            else: \n",
    "                game_over = False\n",
    "            \n",
    "            # Store the episode in experience replay\n",
    "            episode = [prev_envstate, action, reward, envstate, game_status]\n",
    "            experience.remember(episode)\n",
    "            \n",
    "            # Increment the episode count\n",
    "            n_episodes += 1\n",
    "            \n",
    "            # Get data from experience replay and train the model\n",
    "            inputs, targets = experience.get_data(data_size=data_size)\n",
    "            \n",
    "            # Train model\n",
    "            history = model.fit(inputs, targets, epochs=1, batch_size=32, verbose=0)\n",
    "            \n",
    "            # Evaluate loss and accumulate it\n",
    "            loss += model.evaluate(inputs, targets, verbose=0)\n",
    "\n",
    "        # Calculate the win rate over the history window\n",
    "        if len(win_history) > hsize:\n",
    "            win_rate = sum(win_history[-hsize:]) / hsize\n",
    "\n",
    "\n",
    "    #Print the epoch, loss, episodes, win count, and win rate for each epoch\n",
    "        dt = datetime.datetime.now() - start_time\n",
    "        t = format_time(dt.total_seconds())\n",
    "        template = \"Epoch: {:03d}/{:d} | Loss: {:.4f} | Episodes: {:d} | Win count: {:d} | Win rate: {:.3f} | time: {}\"\n",
    "        print(template.format(epoch, n_epoch-1, loss, n_episodes, sum(win_history), win_rate, t))\n",
    "        # We simply check if training has exhausted all free cells and if in all\n",
    "        # cases the agent won.\n",
    "        if win_rate > 0.9 : epsilon = 0.05\n",
    "        if sum(win_history[-hsize:]) == hsize and completion_check(model, qmaze):\n",
    "            print(\"Reached 100%% win rate at epoch: %d\" % (epoch,))\n",
    "            break\n",
    "    \n",
    "    \n",
    "    # Determine the total time for training\n",
    "    dt = datetime.datetime.now() - start_time\n",
    "    seconds = dt.total_seconds()\n",
    "    t = format_time(seconds)\n",
    "\n",
    "    print(\"n_epoch: %d, max_mem: %d, data: %d, time: %s\" % (epoch, max_memory, data_size, t))\n",
    "    return seconds\n",
    "\n",
    "# This is a small utility for printing readable time strings:\n",
    "def format_time(seconds):\n",
    "    if seconds < 400:\n",
    "        s = float(seconds)\n",
    "        return \"%.1f seconds\" % (s,)\n",
    "    elif seconds < 4000:\n",
    "        m = seconds / 60.0\n",
    "        return \"%.2f minutes\" % (m,)\n",
    "    else:\n",
    "        h = seconds / 3600.0\n",
    "        return \"%.2f hours\" % (h,)"
   ]
  },
  {
   "cell_type": "markdown",
   "metadata": {},
   "source": [
    "## Test Your Model\n",
    "\n",
    "Now we will start testing the deep Q-learning implementation. To begin, select **Cell**, then **Run All** from the menu bar. This will run your notebook. As it runs, you should see output begin to appear beneath the next few cells. The code below creates an instance of TreasureMaze."
   ]
  },
  {
   "cell_type": "code",
   "execution_count": 21,
   "metadata": {},
   "outputs": [
    {
     "data": {
      "text/plain": [
       "<matplotlib.image.AxesImage at 0x7f412c1e30b8>"
      ]
     },
     "execution_count": 21,
     "metadata": {},
     "output_type": "execute_result"
    },
    {
     "data": {
      "image/png": "[encoded data removed]",
      "text/plain": [
       "<Figure size 432x288 with 1 Axes>"
      ]
     },
     "metadata": {
      "needs_background": "light"
     },
     "output_type": "display_data"
    }
   ],
   "source": [
    "qmaze = TreasureMaze(maze)\n",
    "show(qmaze)"
   ]
  },
  {
   "cell_type": "markdown",
   "metadata": {},
   "source": [
    "In the next code block, you will build your model and train it using deep Q-learning. Note: This step takes several minutes to fully run."
   ]
  },
  {
   "cell_type": "code",
   "execution_count": 22,
   "metadata": {},
   "outputs": [
    {
     "name": "stdout",
     "output_type": "stream",
     "text": [
      "Epoch: 000/14999 | Loss: 0.0391 | Episodes: 1 | Win count: 1 | Win rate: 0.000 | time: 0.8 seconds\n",
      "Epoch: 001/14999 | Loss: 1.6923 | Episodes: 134 | Win count: 1 | Win rate: 0.000 | time: 4.9 seconds\n",
      "Epoch: 002/14999 | Loss: 0.3036 | Episodes: 137 | Win count: 1 | Win rate: 0.000 | time: 9.7 seconds\n",
      "Epoch: 003/14999 | Loss: 0.2209 | Episodes: 139 | Win count: 1 | Win rate: 0.000 | time: 14.6 seconds\n",
      "Epoch: 004/14999 | Loss: 0.0007 | Episodes: 1 | Win count: 2 | Win rate: 0.000 | time: 14.6 seconds\n",
      "Epoch: 005/14999 | Loss: 0.3071 | Episodes: 144 | Win count: 2 | Win rate: 0.000 | time: 19.8 seconds\n",
      "Epoch: 006/14999 | Loss: 0.2809 | Episodes: 139 | Win count: 2 | Win rate: 0.000 | time: 24.6 seconds\n",
      "Epoch: 007/14999 | Loss: 0.0020 | Episodes: 2 | Win count: 3 | Win rate: 0.000 | time: 24.7 seconds\n",
      "Epoch: 008/14999 | Loss: 0.3865 | Episodes: 155 | Win count: 3 | Win rate: 0.000 | time: 30.4 seconds\n",
      "Epoch: 009/14999 | Loss: 0.2994 | Episodes: 135 | Win count: 3 | Win rate: 0.000 | time: 35.3 seconds\n",
      "Epoch: 010/14999 | Loss: 0.3010 | Episodes: 146 | Win count: 3 | Win rate: 0.000 | time: 40.7 seconds\n",
      "Epoch: 011/14999 | Loss: 0.2619 | Episodes: 150 | Win count: 3 | Win rate: 0.000 | time: 45.9 seconds\n",
      "Epoch: 012/14999 | Loss: 0.1698 | Episodes: 139 | Win count: 3 | Win rate: 0.000 | time: 50.9 seconds\n",
      "Epoch: 013/14999 | Loss: 0.1456 | Episodes: 136 | Win count: 3 | Win rate: 0.000 | time: 55.8 seconds\n",
      "Epoch: 014/14999 | Loss: 0.1235 | Episodes: 131 | Win count: 3 | Win rate: 0.000 | time: 60.3 seconds\n",
      "Epoch: 015/14999 | Loss: 0.1176 | Episodes: 139 | Win count: 3 | Win rate: 0.000 | time: 65.2 seconds\n",
      "Epoch: 016/14999 | Loss: 0.0520 | Episodes: 72 | Win count: 4 | Win rate: 0.000 | time: 67.7 seconds\n",
      "Epoch: 017/14999 | Loss: 0.2594 | Episodes: 138 | Win count: 4 | Win rate: 0.000 | time: 72.5 seconds\n",
      "Epoch: 018/14999 | Loss: 0.2413 | Episodes: 140 | Win count: 4 | Win rate: 0.000 | time: 77.6 seconds\n",
      "Epoch: 019/14999 | Loss: 0.2294 | Episodes: 136 | Win count: 4 | Win rate: 0.000 | time: 82.5 seconds\n",
      "Epoch: 020/14999 | Loss: 0.1510 | Episodes: 134 | Win count: 4 | Win rate: 0.000 | time: 87.2 seconds\n",
      "Epoch: 021/14999 | Loss: 0.0954 | Episodes: 138 | Win count: 4 | Win rate: 0.000 | time: 92.1 seconds\n",
      "Epoch: 022/14999 | Loss: 0.1019 | Episodes: 142 | Win count: 4 | Win rate: 0.000 | time: 97.2 seconds\n",
      "Epoch: 023/14999 | Loss: 0.0835 | Episodes: 131 | Win count: 4 | Win rate: 0.000 | time: 101.9 seconds\n",
      "Epoch: 024/14999 | Loss: 0.0950 | Episodes: 143 | Win count: 4 | Win rate: 0.000 | time: 107.2 seconds\n",
      "Epoch: 025/14999 | Loss: 0.0491 | Episodes: 69 | Win count: 5 | Win rate: 0.000 | time: 109.8 seconds\n",
      "Epoch: 026/14999 | Loss: 0.1735 | Episodes: 135 | Win count: 5 | Win rate: 0.000 | time: 114.8 seconds\n",
      "Epoch: 027/14999 | Loss: 0.1807 | Episodes: 134 | Win count: 5 | Win rate: 0.000 | time: 119.8 seconds\n",
      "Epoch: 028/14999 | Loss: 0.0010 | Episodes: 1 | Win count: 6 | Win rate: 0.000 | time: 119.8 seconds\n",
      "Epoch: 029/14999 | Loss: 0.0688 | Episodes: 51 | Win count: 7 | Win rate: 0.000 | time: 121.6 seconds\n",
      "Epoch: 030/14999 | Loss: 0.2711 | Episodes: 92 | Win count: 8 | Win rate: 0.000 | time: 124.8 seconds\n",
      "Epoch: 031/14999 | Loss: 0.4446 | Episodes: 136 | Win count: 8 | Win rate: 0.000 | time: 129.6 seconds\n",
      "Epoch: 032/14999 | Loss: 0.3395 | Episodes: 136 | Win count: 8 | Win rate: 0.219 | time: 134.6 seconds\n",
      "Epoch: 033/14999 | Loss: 0.0012 | Episodes: 1 | Win count: 9 | Win rate: 0.250 | time: 134.7 seconds\n",
      "Epoch: 034/14999 | Loss: 0.3602 | Episodes: 136 | Win count: 9 | Win rate: 0.250 | time: 139.4 seconds\n",
      "Epoch: 035/14999 | Loss: 0.0743 | Episodes: 45 | Win count: 10 | Win rate: 0.281 | time: 141.1 seconds\n",
      "Epoch: 036/14999 | Loss: 0.3142 | Episodes: 151 | Win count: 10 | Win rate: 0.250 | time: 146.5 seconds\n",
      "Epoch: 037/14999 | Loss: 0.0721 | Episodes: 17 | Win count: 11 | Win rate: 0.281 | time: 147.2 seconds\n",
      "Epoch: 038/14999 | Loss: 0.0023 | Episodes: 2 | Win count: 12 | Win rate: 0.312 | time: 147.2 seconds\n",
      "Epoch: 039/14999 | Loss: 0.2987 | Episodes: 136 | Win count: 12 | Win rate: 0.281 | time: 152.4 seconds\n",
      "Epoch: 040/14999 | Loss: 0.0965 | Episodes: 61 | Win count: 13 | Win rate: 0.312 | time: 154.8 seconds\n",
      "Epoch: 041/14999 | Loss: 0.2273 | Episodes: 136 | Win count: 13 | Win rate: 0.312 | time: 159.6 seconds\n",
      "Epoch: 042/14999 | Loss: 0.0006 | Episodes: 1 | Win count: 14 | Win rate: 0.344 | time: 159.6 seconds\n",
      "Epoch: 043/14999 | Loss: 0.1827 | Episodes: 136 | Win count: 14 | Win rate: 0.344 | time: 164.4 seconds\n",
      "Epoch: 044/14999 | Loss: 0.0018 | Episodes: 3 | Win count: 15 | Win rate: 0.375 | time: 164.5 seconds\n",
      "Epoch: 045/14999 | Loss: 0.1384 | Episodes: 143 | Win count: 15 | Win rate: 0.375 | time: 169.7 seconds\n",
      "Epoch: 046/14999 | Loss: 0.1334 | Episodes: 144 | Win count: 15 | Win rate: 0.375 | time: 175.1 seconds\n",
      "Epoch: 047/14999 | Loss: 0.1266 | Episodes: 140 | Win count: 15 | Win rate: 0.375 | time: 180.3 seconds\n",
      "Epoch: 048/14999 | Loss: 0.1449 | Episodes: 144 | Win count: 15 | Win rate: 0.344 | time: 186.2 seconds\n",
      "Epoch: 049/14999 | Loss: 0.1492 | Episodes: 145 | Win count: 15 | Win rate: 0.344 | time: 191.5 seconds\n",
      "Epoch: 050/14999 | Loss: 0.0033 | Episodes: 4 | Win count: 16 | Win rate: 0.375 | time: 191.7 seconds\n",
      "Epoch: 051/14999 | Loss: 0.0063 | Episodes: 6 | Win count: 17 | Win rate: 0.406 | time: 192.0 seconds\n",
      "Epoch: 052/14999 | Loss: 0.1627 | Episodes: 146 | Win count: 17 | Win rate: 0.406 | time: 197.5 seconds\n",
      "Epoch: 053/14999 | Loss: 0.2064 | Episodes: 144 | Win count: 17 | Win rate: 0.406 | time: 203.0 seconds\n",
      "Epoch: 054/14999 | Loss: 0.1953 | Episodes: 146 | Win count: 17 | Win rate: 0.406 | time: 208.3 seconds\n",
      "Epoch: 055/14999 | Loss: 0.1914 | Episodes: 144 | Win count: 17 | Win rate: 0.406 | time: 213.7 seconds\n",
      "Epoch: 056/14999 | Loss: 0.1910 | Episodes: 153 | Win count: 17 | Win rate: 0.406 | time: 219.3 seconds\n",
      "Epoch: 057/14999 | Loss: 0.0037 | Episodes: 3 | Win count: 18 | Win rate: 0.406 | time: 219.4 seconds\n",
      "Epoch: 058/14999 | Loss: 0.1628 | Episodes: 91 | Win count: 19 | Win rate: 0.438 | time: 222.8 seconds\n",
      "Epoch: 059/14999 | Loss: 0.2061 | Episodes: 121 | Win count: 20 | Win rate: 0.469 | time: 227.2 seconds\n",
      "Epoch: 060/14999 | Loss: 0.0899 | Episodes: 54 | Win count: 21 | Win rate: 0.469 | time: 229.1 seconds\n",
      "Epoch: 061/14999 | Loss: 0.0918 | Episodes: 41 | Win count: 22 | Win rate: 0.469 | time: 230.6 seconds\n",
      "Epoch: 062/14999 | Loss: 0.0111 | Episodes: 6 | Win count: 23 | Win rate: 0.469 | time: 230.8 seconds\n",
      "Epoch: 063/14999 | Loss: 0.2470 | Episodes: 140 | Win count: 23 | Win rate: 0.469 | time: 235.9 seconds\n",
      "Epoch: 064/14999 | Loss: 0.0634 | Episodes: 39 | Win count: 24 | Win rate: 0.500 | time: 237.2 seconds\n",
      "Epoch: 065/14999 | Loss: 0.2321 | Episodes: 143 | Win count: 24 | Win rate: 0.469 | time: 242.3 seconds\n",
      "Epoch: 066/14999 | Loss: 0.2124 | Episodes: 144 | Win count: 24 | Win rate: 0.469 | time: 247.6 seconds\n",
      "Epoch: 067/14999 | Loss: 0.1680 | Episodes: 140 | Win count: 24 | Win rate: 0.438 | time: 252.8 seconds\n",
      "Epoch: 068/14999 | Loss: 0.1502 | Episodes: 112 | Win count: 25 | Win rate: 0.469 | time: 256.7 seconds\n",
      "Epoch: 069/14999 | Loss: 0.1415 | Episodes: 108 | Win count: 26 | Win rate: 0.469 | time: 260.7 seconds\n",
      "Epoch: 070/14999 | Loss: 0.0502 | Episodes: 34 | Win count: 27 | Win rate: 0.469 | time: 262.0 seconds\n",
      "Epoch: 071/14999 | Loss: 0.1937 | Episodes: 124 | Win count: 28 | Win rate: 0.500 | time: 266.2 seconds\n",
      "Epoch: 072/14999 | Loss: 0.0323 | Episodes: 20 | Win count: 29 | Win rate: 0.500 | time: 266.9 seconds\n",
      "Epoch: 073/14999 | Loss: 0.1342 | Episodes: 80 | Win count: 30 | Win rate: 0.531 | time: 269.8 seconds\n",
      "Epoch: 074/14999 | Loss: 0.2368 | Episodes: 144 | Win count: 30 | Win rate: 0.500 | time: 274.7 seconds\n",
      "Epoch: 075/14999 | Loss: 0.0619 | Episodes: 37 | Win count: 31 | Win rate: 0.531 | time: 276.1 seconds\n",
      "Epoch: 076/14999 | Loss: 0.0054 | Episodes: 3 | Win count: 32 | Win rate: 0.531 | time: 276.2 seconds\n",
      "Epoch: 077/14999 | Loss: 0.0018 | Episodes: 1 | Win count: 33 | Win rate: 0.562 | time: 276.3 seconds\n",
      "Epoch: 078/14999 | Loss: 0.0240 | Episodes: 13 | Win count: 34 | Win rate: 0.594 | time: 276.7 seconds\n",
      "Epoch: 079/14999 | Loss: 0.0509 | Episodes: 25 | Win count: 35 | Win rate: 0.625 | time: 277.6 seconds\n"
     ]
    },
    {
     "name": "stdout",
     "output_type": "stream",
     "text": [
      "Epoch: 080/14999 | Loss: 0.0488 | Episodes: 23 | Win count: 36 | Win rate: 0.656 | time: 278.5 seconds\n",
      "Epoch: 081/14999 | Loss: 0.0698 | Episodes: 35 | Win count: 37 | Win rate: 0.688 | time: 279.7 seconds\n",
      "Epoch: 082/14999 | Loss: 0.0101 | Episodes: 6 | Win count: 38 | Win rate: 0.688 | time: 279.9 seconds\n",
      "Epoch: 083/14999 | Loss: 0.0031 | Episodes: 2 | Win count: 39 | Win rate: 0.688 | time: 280.0 seconds\n",
      "Epoch: 084/14999 | Loss: 0.0262 | Episodes: 15 | Win count: 40 | Win rate: 0.719 | time: 280.6 seconds\n",
      "Epoch: 085/14999 | Loss: 0.1010 | Episodes: 56 | Win count: 41 | Win rate: 0.750 | time: 282.5 seconds\n",
      "Epoch: 086/14999 | Loss: 0.0125 | Episodes: 8 | Win count: 42 | Win rate: 0.781 | time: 282.8 seconds\n",
      "Epoch: 087/14999 | Loss: 0.2321 | Episodes: 141 | Win count: 42 | Win rate: 0.781 | time: 287.8 seconds\n",
      "Epoch: 088/14999 | Loss: 0.0279 | Episodes: 19 | Win count: 43 | Win rate: 0.812 | time: 288.6 seconds\n",
      "Epoch: 089/14999 | Loss: 0.0233 | Episodes: 14 | Win count: 44 | Win rate: 0.812 | time: 289.1 seconds\n",
      "Epoch: 090/14999 | Loss: 0.0316 | Episodes: 21 | Win count: 45 | Win rate: 0.812 | time: 289.8 seconds\n",
      "Epoch: 091/14999 | Loss: 0.0180 | Episodes: 12 | Win count: 46 | Win rate: 0.812 | time: 290.2 seconds\n",
      "Epoch: 092/14999 | Loss: 0.0100 | Episodes: 7 | Win count: 47 | Win rate: 0.812 | time: 290.5 seconds\n",
      "Epoch: 093/14999 | Loss: 0.0853 | Episodes: 55 | Win count: 48 | Win rate: 0.812 | time: 292.5 seconds\n",
      "Epoch: 094/14999 | Loss: 0.0013 | Episodes: 1 | Win count: 49 | Win rate: 0.812 | time: 292.5 seconds\n",
      "Epoch: 095/14999 | Loss: 0.2110 | Episodes: 140 | Win count: 49 | Win rate: 0.812 | time: 297.5 seconds\n",
      "Epoch: 096/14999 | Loss: 0.0200 | Episodes: 13 | Win count: 50 | Win rate: 0.812 | time: 298.0 seconds\n",
      "Epoch: 097/14999 | Loss: 0.0162 | Episodes: 13 | Win count: 51 | Win rate: 0.844 | time: 298.4 seconds\n",
      "Epoch: 098/14999 | Loss: 0.0043 | Episodes: 3 | Win count: 52 | Win rate: 0.875 | time: 298.5 seconds\n",
      "Epoch: 099/14999 | Loss: 0.0012 | Episodes: 1 | Win count: 53 | Win rate: 0.906 | time: 298.6 seconds\n",
      "Epoch: 100/14999 | Loss: 0.0331 | Episodes: 25 | Win count: 54 | Win rate: 0.906 | time: 299.5 seconds\n",
      "Epoch: 101/14999 | Loss: 0.0279 | Episodes: 22 | Win count: 55 | Win rate: 0.906 | time: 300.2 seconds\n",
      "Epoch: 102/14999 | Loss: 0.0863 | Episodes: 78 | Win count: 56 | Win rate: 0.906 | time: 302.9 seconds\n",
      "Epoch: 103/14999 | Loss: 0.0691 | Episodes: 52 | Win count: 57 | Win rate: 0.906 | time: 304.7 seconds\n",
      "Epoch: 104/14999 | Loss: 0.0403 | Episodes: 31 | Win count: 58 | Win rate: 0.906 | time: 305.9 seconds\n",
      "Epoch: 105/14999 | Loss: 0.1783 | Episodes: 140 | Win count: 58 | Win rate: 0.875 | time: 311.0 seconds\n",
      "Epoch: 106/14999 | Loss: 0.0048 | Episodes: 4 | Win count: 59 | Win rate: 0.906 | time: 311.2 seconds\n",
      "Epoch: 107/14999 | Loss: 0.0444 | Episodes: 34 | Win count: 60 | Win rate: 0.906 | time: 312.6 seconds\n",
      "Epoch: 108/14999 | Loss: 0.0253 | Episodes: 18 | Win count: 61 | Win rate: 0.906 | time: 313.3 seconds\n",
      "Epoch: 109/14999 | Loss: 0.0397 | Episodes: 27 | Win count: 62 | Win rate: 0.906 | time: 314.6 seconds\n",
      "Epoch: 110/14999 | Loss: 0.0276 | Episodes: 17 | Win count: 63 | Win rate: 0.906 | time: 315.3 seconds\n",
      "Epoch: 111/14999 | Loss: 0.0129 | Episodes: 7 | Win count: 64 | Win rate: 0.906 | time: 315.6 seconds\n",
      "Epoch: 112/14999 | Loss: 0.0355 | Episodes: 22 | Win count: 65 | Win rate: 0.906 | time: 316.8 seconds\n",
      "Epoch: 113/14999 | Loss: 0.0104 | Episodes: 10 | Win count: 66 | Win rate: 0.906 | time: 317.4 seconds\n",
      "Epoch: 114/14999 | Loss: 0.0108 | Episodes: 9 | Win count: 67 | Win rate: 0.906 | time: 317.7 seconds\n",
      "Epoch: 115/14999 | Loss: 0.0513 | Episodes: 36 | Win count: 68 | Win rate: 0.906 | time: 319.0 seconds\n",
      "Epoch: 116/14999 | Loss: 0.0108 | Episodes: 8 | Win count: 69 | Win rate: 0.906 | time: 319.2 seconds\n",
      "Epoch: 117/14999 | Loss: 0.0222 | Episodes: 19 | Win count: 70 | Win rate: 0.906 | time: 319.9 seconds\n",
      "Epoch: 118/14999 | Loss: 0.0068 | Episodes: 6 | Win count: 71 | Win rate: 0.906 | time: 320.1 seconds\n",
      "Epoch: 119/14999 | Loss: 0.0054 | Episodes: 6 | Win count: 72 | Win rate: 0.938 | time: 320.4 seconds\n",
      "Epoch: 120/14999 | Loss: 0.0171 | Episodes: 15 | Win count: 73 | Win rate: 0.938 | time: 320.9 seconds\n",
      "Epoch: 121/14999 | Loss: 0.0166 | Episodes: 16 | Win count: 74 | Win rate: 0.938 | time: 321.5 seconds\n",
      "Epoch: 122/14999 | Loss: 0.0335 | Episodes: 25 | Win count: 75 | Win rate: 0.938 | time: 322.5 seconds\n",
      "Epoch: 123/14999 | Loss: 0.0152 | Episodes: 10 | Win count: 76 | Win rate: 0.938 | time: 322.9 seconds\n",
      "Epoch: 124/14999 | Loss: 0.1265 | Episodes: 98 | Win count: 77 | Win rate: 0.938 | time: 326.4 seconds\n",
      "Epoch: 125/14999 | Loss: 0.0029 | Episodes: 3 | Win count: 78 | Win rate: 0.938 | time: 326.5 seconds\n",
      "Epoch: 126/14999 | Loss: 0.0256 | Episodes: 21 | Win count: 79 | Win rate: 0.938 | time: 327.3 seconds\n",
      "Epoch: 127/14999 | Loss: 0.0294 | Episodes: 24 | Win count: 80 | Win rate: 0.969 | time: 328.1 seconds\n",
      "Epoch: 128/14999 | Loss: 0.0394 | Episodes: 30 | Win count: 81 | Win rate: 0.969 | time: 329.4 seconds\n",
      "Epoch: 129/14999 | Loss: 0.0260 | Episodes: 20 | Win count: 82 | Win rate: 0.969 | time: 330.1 seconds\n",
      "Epoch: 130/14999 | Loss: 0.0364 | Episodes: 33 | Win count: 83 | Win rate: 0.969 | time: 331.2 seconds\n",
      "Epoch: 131/14999 | Loss: 0.0303 | Episodes: 26 | Win count: 84 | Win rate: 0.969 | time: 332.1 seconds\n",
      "Epoch: 132/14999 | Loss: 0.0231 | Episodes: 25 | Win count: 85 | Win rate: 0.969 | time: 333.1 seconds\n",
      "Epoch: 133/14999 | Loss: 0.0184 | Episodes: 20 | Win count: 86 | Win rate: 0.969 | time: 333.9 seconds\n",
      "Epoch: 134/14999 | Loss: 0.0180 | Episodes: 19 | Win count: 87 | Win rate: 0.969 | time: 334.6 seconds\n",
      "Epoch: 135/14999 | Loss: 0.0281 | Episodes: 25 | Win count: 88 | Win rate: 0.969 | time: 335.5 seconds\n",
      "Epoch: 136/14999 | Loss: 0.0132 | Episodes: 11 | Win count: 89 | Win rate: 0.969 | time: 335.9 seconds\n",
      "Epoch: 137/14999 | Loss: 0.0138 | Episodes: 15 | Win count: 90 | Win rate: 1.000 | time: 336.5 seconds\n",
      "Epoch: 138/14999 | Loss: 0.0357 | Episodes: 32 | Win count: 91 | Win rate: 1.000 | time: 337.8 seconds\n",
      "Epoch: 139/14999 | Loss: 0.0208 | Episodes: 22 | Win count: 92 | Win rate: 1.000 | time: 338.6 seconds\n",
      "Epoch: 140/14999 | Loss: 0.0229 | Episodes: 27 | Win count: 93 | Win rate: 1.000 | time: 339.6 seconds\n",
      "Epoch: 141/14999 | Loss: 0.0220 | Episodes: 30 | Win count: 94 | Win rate: 1.000 | time: 340.8 seconds\n",
      "Epoch: 142/14999 | Loss: 0.0247 | Episodes: 34 | Win count: 95 | Win rate: 1.000 | time: 342.2 seconds\n",
      "Epoch: 143/14999 | Loss: 0.0130 | Episodes: 15 | Win count: 96 | Win rate: 1.000 | time: 342.8 seconds\n",
      "Epoch: 144/14999 | Loss: 0.0076 | Episodes: 7 | Win count: 97 | Win rate: 1.000 | time: 343.3 seconds\n",
      "Epoch: 145/14999 | Loss: 0.0127 | Episodes: 13 | Win count: 98 | Win rate: 1.000 | time: 344.0 seconds\n",
      "Epoch: 146/14999 | Loss: 0.0006 | Episodes: 1 | Win count: 99 | Win rate: 1.000 | time: 344.2 seconds\n",
      "Epoch: 147/14999 | Loss: 0.0329 | Episodes: 37 | Win count: 100 | Win rate: 1.000 | time: 345.6 seconds\n",
      "Epoch: 148/14999 | Loss: 0.0139 | Episodes: 16 | Win count: 101 | Win rate: 1.000 | time: 346.3 seconds\n",
      "Epoch: 149/14999 | Loss: 0.0210 | Episodes: 28 | Win count: 102 | Win rate: 1.000 | time: 347.7 seconds\n",
      "Epoch: 150/14999 | Loss: 0.0049 | Episodes: 6 | Win count: 103 | Win rate: 1.000 | time: 348.0 seconds\n",
      "Epoch: 151/14999 | Loss: 0.0053 | Episodes: 7 | Win count: 104 | Win rate: 1.000 | time: 348.4 seconds\n",
      "Epoch: 152/14999 | Loss: 0.0052 | Episodes: 9 | Win count: 105 | Win rate: 1.000 | time: 348.8 seconds\n",
      "Epoch: 153/14999 | Loss: 0.0016 | Episodes: 2 | Win count: 106 | Win rate: 1.000 | time: 349.0 seconds\n",
      "Epoch: 154/14999 | Loss: 0.0170 | Episodes: 27 | Win count: 107 | Win rate: 1.000 | time: 350.2 seconds\n",
      "Epoch: 155/14999 | Loss: 0.0603 | Episodes: 112 | Win count: 108 | Win rate: 1.000 | time: 354.8 seconds\n",
      "Epoch: 156/14999 | Loss: 0.0119 | Episodes: 19 | Win count: 109 | Win rate: 1.000 | time: 355.8 seconds\n",
      "Epoch: 157/14999 | Loss: 0.0166 | Episodes: 27 | Win count: 110 | Win rate: 1.000 | time: 357.4 seconds\n",
      "Epoch: 158/14999 | Loss: 0.0178 | Episodes: 27 | Win count: 111 | Win rate: 1.000 | time: 358.8 seconds\n",
      "Epoch: 159/14999 | Loss: 0.0227 | Episodes: 35 | Win count: 112 | Win rate: 1.000 | time: 360.3 seconds\n"
     ]
    },
    {
     "name": "stdout",
     "output_type": "stream",
     "text": [
      "Epoch: 160/14999 | Loss: 0.0116 | Episodes: 19 | Win count: 113 | Win rate: 1.000 | time: 361.3 seconds\n",
      "Epoch: 161/14999 | Loss: 0.0097 | Episodes: 15 | Win count: 114 | Win rate: 1.000 | time: 362.0 seconds\n",
      "Epoch: 162/14999 | Loss: 0.0538 | Episodes: 78 | Win count: 115 | Win rate: 1.000 | time: 365.2 seconds\n",
      "Epoch: 163/14999 | Loss: 0.0036 | Episodes: 7 | Win count: 116 | Win rate: 1.000 | time: 365.5 seconds\n",
      "Epoch: 164/14999 | Loss: 0.0212 | Episodes: 28 | Win count: 117 | Win rate: 1.000 | time: 366.8 seconds\n",
      "Epoch: 165/14999 | Loss: 0.0064 | Episodes: 9 | Win count: 118 | Win rate: 1.000 | time: 367.2 seconds\n",
      "Epoch: 166/14999 | Loss: 0.0217 | Episodes: 27 | Win count: 119 | Win rate: 1.000 | time: 368.5 seconds\n",
      "Epoch: 167/14999 | Loss: 0.0180 | Episodes: 26 | Win count: 120 | Win rate: 1.000 | time: 369.5 seconds\n",
      "Epoch: 168/14999 | Loss: 0.0020 | Episodes: 3 | Win count: 121 | Win rate: 1.000 | time: 369.6 seconds\n",
      "Epoch: 169/14999 | Loss: 0.0252 | Episodes: 40 | Win count: 122 | Win rate: 1.000 | time: 371.2 seconds\n",
      "Epoch: 170/14999 | Loss: 0.0171 | Episodes: 25 | Win count: 123 | Win rate: 1.000 | time: 372.5 seconds\n",
      "Epoch: 171/14999 | Loss: 0.0066 | Episodes: 10 | Win count: 124 | Win rate: 1.000 | time: 373.4 seconds\n",
      "Epoch: 172/14999 | Loss: 0.0160 | Episodes: 23 | Win count: 125 | Win rate: 1.000 | time: 374.4 seconds\n",
      "Epoch: 173/14999 | Loss: 0.0034 | Episodes: 6 | Win count: 126 | Win rate: 1.000 | time: 374.7 seconds\n",
      "Epoch: 174/14999 | Loss: 0.0075 | Episodes: 10 | Win count: 127 | Win rate: 1.000 | time: 375.1 seconds\n",
      "Epoch: 175/14999 | Loss: 0.0224 | Episodes: 31 | Win count: 128 | Win rate: 1.000 | time: 376.4 seconds\n",
      "Epoch: 176/14999 | Loss: 0.0223 | Episodes: 32 | Win count: 129 | Win rate: 1.000 | time: 377.6 seconds\n",
      "Epoch: 177/14999 | Loss: 0.0013 | Episodes: 3 | Win count: 130 | Win rate: 1.000 | time: 377.8 seconds\n",
      "Epoch: 178/14999 | Loss: 0.0062 | Episodes: 7 | Win count: 131 | Win rate: 1.000 | time: 378.2 seconds\n",
      "Epoch: 179/14999 | Loss: 0.0182 | Episodes: 19 | Win count: 132 | Win rate: 1.000 | time: 379.0 seconds\n",
      "Epoch: 180/14999 | Loss: 0.0289 | Episodes: 28 | Win count: 133 | Win rate: 1.000 | time: 380.3 seconds\n",
      "Epoch: 181/14999 | Loss: 0.0075 | Episodes: 8 | Win count: 134 | Win rate: 1.000 | time: 380.8 seconds\n",
      "Epoch: 182/14999 | Loss: 0.0333 | Episodes: 38 | Win count: 135 | Win rate: 1.000 | time: 382.6 seconds\n",
      "Epoch: 183/14999 | Loss: 0.0118 | Episodes: 15 | Win count: 136 | Win rate: 1.000 | time: 383.3 seconds\n",
      "Epoch: 184/14999 | Loss: 0.0121 | Episodes: 18 | Win count: 137 | Win rate: 1.000 | time: 384.1 seconds\n",
      "Epoch: 185/14999 | Loss: 0.0654 | Episodes: 60 | Win count: 138 | Win rate: 1.000 | time: 386.9 seconds\n",
      "Epoch: 186/14999 | Loss: 0.0041 | Episodes: 4 | Win count: 139 | Win rate: 1.000 | time: 387.1 seconds\n",
      "Epoch: 187/14999 | Loss: 0.0086 | Episodes: 9 | Win count: 140 | Win rate: 1.000 | time: 387.6 seconds\n",
      "Epoch: 188/14999 | Loss: 0.0706 | Episodes: 55 | Win count: 141 | Win rate: 1.000 | time: 390.0 seconds\n",
      "Reached 100% win rate at epoch: 188\n",
      "n_epoch: 188, max_mem: 512, data: 32, time: 390.5 seconds\n"
     ]
    },
    {
     "data": {
      "text/plain": [
       "390.49721"
      ]
     },
     "execution_count": 22,
     "metadata": {},
     "output_type": "execute_result"
    }
   ],
   "source": [
    "model = build_model(maze)\n",
    "qtrain(model, maze, epochs=1000, max_memory=8*maze.size, data_size=32)"
   ]
  },
  {
   "cell_type": "markdown",
   "metadata": {},
   "source": [
    "This cell will check to see if the model passes the completion check. Note: This could take several minutes."
   ]
  },
  {
   "cell_type": "code",
   "execution_count": 23,
   "metadata": {},
   "outputs": [
    {
     "data": {
      "text/plain": [
       "<matplotlib.image.AxesImage at 0x7f4112403dd8>"
      ]
     },
     "execution_count": 23,
     "metadata": {},
     "output_type": "execute_result"
    },
    {
     "data": {
      "image/png": "[encoded data removed]",
      "text/plain": [
       "<Figure size 432x288 with 1 Axes>"
      ]
     },
     "metadata": {
      "needs_background": "light"
     },
     "output_type": "display_data"
    }
   ],
   "source": [
    "completion_check(model, qmaze)\n",
    "show(qmaze)"
   ]
  },
  {
   "cell_type": "markdown",
   "metadata": {},
   "source": [
    "This cell will test your model for one game. It will start the pirate at the top-left corner and run play_game. The agent should find a path from the starting position to the target (treasure). The treasure is located in the bottom-right corner."
   ]
  },
  {
   "cell_type": "code",
   "execution_count": 24,
   "metadata": {},
   "outputs": [
    {
     "data": {
      "text/plain": [
       "<matplotlib.image.AxesImage at 0x7f41123e5be0>"
      ]
     },
     "execution_count": 24,
     "metadata": {},
     "output_type": "execute_result"
    },
    {
     "data": {
      "image/png": "[encoded data removed]",
      "text/plain": [
       "<Figure size 432x288 with 1 Axes>"
      ]
     },
     "metadata": {
      "needs_background": "light"
     },
     "output_type": "display_data"
    }
   ],
   "source": [
    "pirate_start = (0, 0)\n",
    "play_game(model, qmaze, pirate_start)\n",
    "show(qmaze)"
   ]
  },
  {
   "cell_type": "markdown",
   "metadata": {},
   "source": [
    "## Save and Submit Your Work\n",
    "After you have finished creating the code for your notebook, save your work. Make sure that your notebook contains your name in the filename (e.g. Doe_Jane_ProjectTwo.ipynb). This will help your instructor access and grade your work easily. Download a copy of your IPYNB file and submit it to Brightspace. Refer to the Jupyter Notebook in Apporto Tutorial if you need help with these tasks."
   ]
  }
 ],
 "metadata": {
  "kernelspec": {
   "display_name": "Python 3",
   "language": "python",
   "name": "python3"
  },
  "language_info": {
   "codemirror_mode": {
    "name": "ipython",
    "version": 3
   },
   "file_extension": ".py",
   "mimetype": "text/x-python",
   "name": "python",
   "nbconvert_exporter": "python",
   "pygments_lexer": "ipython3",
   "version": "3.6.8"
  }
 },
 "nbformat": 4,
 "nbformat_minor": 2
}
